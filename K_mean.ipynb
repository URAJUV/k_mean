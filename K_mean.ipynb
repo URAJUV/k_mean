{
 "cells": [
  {
   "cell_type": "markdown",
   "metadata": {},
   "source": [
    "A note book to demostrate how to find the dominant colors in an image\n"
   ]
  },
  {
   "cell_type": "code",
   "execution_count": 80,
   "metadata": {
    "collapsed": false
   },
   "outputs": [
    {
     "name": "stdout",
     "output_type": "stream",
     "text": [
      "Color R254-G254-B254 is 77 Percent  \n",
      "\n",
      "ACTUAL color is None and Approx color is white \n",
      "Color R54-G58-B70 is 16 Percent  \n",
      "\n",
      "ACTUAL color is None and Approx color is darkslategray \n",
      "Color R185-G202-B223 is 5 Percent  \n",
      "\n",
      "ACTUAL color is None and Approx color is lightsteelblue \n",
      "Color R29-G137-B225 is 1 Percent  \n",
      "\n",
      "ACTUAL color is None and Approx color is dodgerblue \n"
     ]
    },
    {
     "data": {
      "image/png": "[encoded data removed]",
      "text/plain": [
       "<matplotlib.figure.Figure at 0x2421a4426a0>"
      ]
     },
     "metadata": {},
     "output_type": "display_data"
    },
    {
     "data": {
      "image/png": "[encoded data removed]",
      "text/plain": [
       "<matplotlib.figure.Figure at 0x2421a119b70>"
      ]
     },
     "metadata": {},
     "output_type": "display_data"
    }
   ],
   "source": [
    "# import the necessary packages\n",
    "# import the necessary packages\n",
    "import numpy as np\n",
    "from sklearn.cluster import KMeans\n",
    "import matplotlib.pyplot as plt\n",
    "import argparse\n",
    "import webcolors\n",
    "import cv2\n",
    "\n",
    "# funtions to approx the RGB triplets\n",
    "def closest_colour(requested_colour):\n",
    "    min_colours = {}\n",
    "    for key, name in webcolors.css3_hex_to_names.items():\n",
    "        r_c, g_c, b_c = webcolors.hex_to_rgb(key)\n",
    "        rd = (r_c - requested_colour[0]) ** 2\n",
    "        gd = (g_c - requested_colour[1]) ** 2\n",
    "        bd = (b_c - requested_colour[2]) ** 2\n",
    "        min_colours[(rd + gd + bd)] = name\n",
    "    return min_colours[min(min_colours.keys())]\n",
    "\n",
    "def get_colour_name(requested_colour):\n",
    "    try:\n",
    "        closest_name = actual_name = webcolors.rgb_to_name(requested_colour)\n",
    "    except ValueError:\n",
    "        closest_name = closest_colour(requested_colour)\n",
    "        actual_name = None\n",
    "    return actual_name, closest_name\n",
    "\n",
    "\n",
    "def centroid_histogram(clt):\n",
    "    # grab the number of different clusters and create a histogram\n",
    "    # based on the number of pixels assigned to each cluster\n",
    "    numLabels = np.arange(0, len(np.unique(clt.labels_)) + 1)\n",
    "    (hist, _) = np.histogram(clt.labels_, bins = numLabels)\n",
    "\n",
    "    # normalize the histogram, such that it sums to one\n",
    "    hist = hist.astype(\"float\")\n",
    "    hist /= hist.sum()\n",
    "\n",
    "    # return the histogram\n",
    "    return hist\n",
    "def plot_colors(hist, centroids):\n",
    "    # initialize the bar chart representing the relative frequency\n",
    "    # of each of the colors\n",
    "    bar = np.zeros((50, 300, 3), dtype = \"uint8\")\n",
    "    startX = 0\n",
    "    # loop over the percentage of each cluster and the color of\n",
    "    # each cluster\n",
    "    for (percent, color) in zip(hist, centroids):\n",
    "        # plot the relative percentage of each cluster\n",
    "         endX = startX + (percent * 300)\n",
    "        \n",
    "         print(\"Color R%d-G%d-B%d is %d Percent  \\n\" %(color[0],color[1],color[2],(percent * 100)))\n",
    "         actual_name, closest_name = get_colour_name((color[0],color[1],color[2]))\n",
    "         print(\"ACTUAL color is %s and Approx color is %s \"%(actual_name,closest_name) )\n",
    "         cv2.rectangle(bar, (int(startX), 0), (int(endX), 50),\n",
    "         color.astype(\"uint8\").tolist(), -1)\n",
    "         startX = endX\n",
    "    # return the bar chart\n",
    "    return bar\n",
    "# construct the argument parser and parse the arguments\n",
    "#ap = argparse.ArgumentParser()\n",
    "#ap.add_argument(\"-i\", \"--image\", required = True, help = \"Path to the image\")\n",
    "#ap.add_argument(\"-c\", \"--clusters\", required = True, type = int,\n",
    "#help = \"# of clusters\")\n",
    "#args = vars(ap.parse_args())\n",
    "\n",
    "# load the image and convert it from BGR to RGB so that\n",
    "# we can dispaly it with matplotlib\n",
    "image = cv2.imread(\"Pictures/ESD_result.PNG\")\n",
    "image = cv2.cvtColor(image, cv2.COLOR_BGR2RGB)\n",
    "\n",
    "# show our image\n",
    "plt.figure()\n",
    "plt.axis(\"off\")\n",
    "plt.imshow(image)\n",
    "#reshape the image to be a list of pixels\n",
    "image = image.reshape((image.shape[0] * image.shape[1], 3))\n",
    "# cluster the pixel intensities\n",
    "clt = KMeans(n_clusters = 4)\n",
    "clt.fit(image)\n",
    "# build a histogram of clusters and then create a figure\n",
    "# representing the number of pixels labeled to each color\n",
    "hist = centroid_histogram(clt)\n",
    "bar = plot_colors(hist, clt.cluster_centers_)\n",
    "\n",
    "# show our color bart\n",
    "plt.figure()\n",
    "plt.axis(\"off\")\n",
    "plt.imshow(bar)\n",
    "plt.show()"
   ]
  },
  {
   "cell_type": "code",
   "execution_count": 81,
   "metadata": {
    "collapsed": false,
    "scrolled": true
   },
   "outputs": [
    {
     "name": "stdout",
     "output_type": "stream",
     "text": [
      " Volume in drive C is MININT-00N0PD2\n",
      " Volume Serial Number is 360E-8204\n",
      "\n",
      " Directory of C:\\Users\\usasan\n",
      "\n",
      "09/06/2017  11:00 PM    <DIR>          .\n",
      "09/06/2017  11:00 PM    <DIR>          ..\n",
      "09/03/2017  12:01 AM    <DIR>          .android\n",
      "02/27/2017  02:41 PM    <DIR>          .AndroidStudio2.2\n",
      "10/07/2016  12:46 PM               390 .bash_history\n",
      "03/06/2017  03:59 PM    <DIR>          .conda\n",
      "02/27/2017  06:21 PM    <DIR>          .crashlytics\n",
      "02/27/2017  03:44 PM                16 .emulator_console_auth_token\n",
      "08/17/2017  04:35 PM    <DIR>          .gimp-2.8\n",
      "02/27/2017  06:17 PM    <DIR>          .gradle\n",
      "09/06/2017  06:24 PM    <DIR>          .ipynb_checkpoints\n",
      "09/05/2017  04:57 PM    <DIR>          .ipython\n",
      "09/06/2017  10:43 AM    <DIR>          .jupyter\n",
      "09/06/2017  07:06 PM    <DIR>          .matplotlib\n",
      "03/07/2017  07:53 PM    <DIR>          .ssh\n",
      "08/17/2017  03:06 PM    <DIR>          .thumbnails\n",
      "03/07/2017  10:17 PM             1,553 .viminfo\n",
      "02/27/2017  03:30 PM    <DIR>          AndroidStudioProjects\n",
      "09/04/2017  11:45 AM    <DIR>          Contacts\n",
      "09/04/2017  11:45 AM    <DIR>          Desktop\n",
      "08/12/2017  12:58 PM    <DIR>          Development\n",
      "09/04/2017  11:45 AM    <DIR>          Documents\n",
      "09/06/2017  08:39 PM    <DIR>          Downloads\n",
      "09/04/2017  11:45 AM    <DIR>          Favorites\n",
      "09/04/2017  11:50 AM    <DIR>          Links\n",
      "09/06/2017  12:02 PM    <DIR>          Music\n",
      "09/04/2017  11:50 AM    <DIR>          OneDrive\n",
      "09/05/2017  11:22 AM    <DIR>          OneDrive - Qualcomm\n",
      "09/04/2017  11:45 AM    <DIR>          Pictures\n",
      "09/01/2017  09:37 PM               600 PUTTY.RND\n",
      "08/11/2017  11:20 AM    <DIR>          Roaming\n",
      "09/04/2017  11:45 AM    <DIR>          Saved Games\n",
      "09/04/2017  11:45 AM    <DIR>          Searches\n",
      "05/30/2017  11:57 AM    <DIR>          TENSOR_FLOW\n",
      "09/05/2017  04:46 PM               109 test.py\n",
      "09/06/2017  06:24 PM             5,242 Untitled.ipynb\n",
      "09/06/2017  11:00 PM            28,552 Untitled1.ipynb\n",
      "09/04/2017  11:45 AM    <DIR>          Videos\n",
      "               7 File(s)         36,462 bytes\n",
      "              31 Dir(s)  68,409,266,176 bytes free\n"
     ]
    }
   ],
   "source": [
    "\n",
    "\n"
   ]
  },
  {
   "cell_type": "code",
   "execution_count": null,
   "metadata": {
    "collapsed": true
   },
   "outputs": [],
   "source": []
  }
 ],
 "metadata": {
  "anaconda-cloud": {},
  "kernelspec": {
   "display_name": "Python [default]",
   "language": "python",
   "name": "python3"
  },
  "language_info": {
   "codemirror_mode": {
    "name": "ipython",
    "version": 3
   },
   "file_extension": ".py",
   "mimetype": "text/x-python",
   "name": "python",
   "nbconvert_exporter": "python",
   "pygments_lexer": "ipython3",
   "version": "3.5.3"
  }
 },
 "nbformat": 4,
 "nbformat_minor": 1
}
